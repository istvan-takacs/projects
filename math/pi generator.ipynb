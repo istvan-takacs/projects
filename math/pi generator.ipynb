{
 "cells": [
  {
   "cell_type": "code",
   "execution_count": 4,
   "id": "ec3e2422",
   "metadata": {},
   "outputs": [
    {
     "name": "stdout",
     "output_type": "stream",
     "text": [
      "How many decimals of pi?90\n",
      "3.14159265358979348846264335202950289372841939396494957590863599195926905517298759452721695\n"
     ]
    }
   ],
   "source": [
    "from decimal import *\n",
    "\n",
    "\n",
    "def gen_pi():\n",
    "    \n",
    "    dec = int(input(\"How many decimals of pi?\"))\n",
    "    getcontext().prec = dec\n",
    "    \n",
    "    somepi = Decimal(3.0)\n",
    "    plusorminus = 1\n",
    "    i = 2\n",
    "    \n",
    "    for i in range(2, 200000, 2):\n",
    "        if plusorminus == 1:\n",
    "            somepi += 4/Decimal((i*(i+1)*(i+2)))\n",
    "        else:\n",
    "            somepi -= 4/Decimal((i*(i+1)*(i+2)))\n",
    "        \n",
    "        plusorminus *= -1\n",
    "    return somepi\n",
    "\n",
    "\n",
    "print(gen_pi())\n",
    "    "
   ]
  }
 ],
 "metadata": {
  "kernelspec": {
   "display_name": "Python 3",
   "language": "python",
   "name": "python3"
  },
  "language_info": {
   "codemirror_mode": {
    "name": "ipython",
    "version": 3
   },
   "file_extension": ".py",
   "mimetype": "text/x-python",
   "name": "python",
   "nbconvert_exporter": "python",
   "pygments_lexer": "ipython3",
   "version": "3.8.8"
  }
 },
 "nbformat": 4,
 "nbformat_minor": 5
}
