{
 "cells": [
  {
   "cell_type": "markdown",
   "id": "7a4475ac",
   "metadata": {},
   "source": [
    "### Fibonacci Sequence Generator"
   ]
  },
  {
   "cell_type": "code",
   "execution_count": 17,
   "id": "6a15baea",
   "metadata": {},
   "outputs": [],
   "source": [
    "def fib_gen(n):\n",
    "    \n",
    "    def fibonacci(n):\n",
    "\n",
    "        a = 1\n",
    "        b = 1\n",
    "        yield b\n",
    "        for num in range(n):\n",
    "            a, b = b, a+b\n",
    "            yield a\n",
    "    for num in fibonacci(n):\n",
    "        print(num)\n",
    "    \n",
    "\n",
    "\n",
    "\n",
    "    "
   ]
  }
 ],
 "metadata": {
  "kernelspec": {
   "display_name": "Python 3",
   "language": "python",
   "name": "python3"
  },
  "language_info": {
   "codemirror_mode": {
    "name": "ipython",
    "version": 3
   },
   "file_extension": ".py",
   "mimetype": "text/x-python",
   "name": "python",
   "nbconvert_exporter": "python",
   "pygments_lexer": "ipython3",
   "version": "3.8.8"
  }
 },
 "nbformat": 4,
 "nbformat_minor": 5
}
