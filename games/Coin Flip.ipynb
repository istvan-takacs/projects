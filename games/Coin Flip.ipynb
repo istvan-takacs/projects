{
 "cells": [
  {
   "cell_type": "markdown",
   "id": "b472b9e8",
   "metadata": {},
   "source": [
    "### Coin Flip Simulation"
   ]
  },
  {
   "cell_type": "code",
   "execution_count": 1,
   "id": "93257509",
   "metadata": {},
   "outputs": [],
   "source": [
    "import random"
   ]
  },
  {
   "cell_type": "code",
   "execution_count": 177,
   "id": "26f69ef8",
   "metadata": {},
   "outputs": [],
   "source": [
    "def coin_flip(flips):\n",
    "    \n",
    "    heads = \"heads\"\n",
    "    tails = \"tails\"\n",
    "    heads_or_tails = [heads, tails]\n",
    "    \n",
    "    no_heads = 0\n",
    "    no_tails = 0\n",
    "    \n",
    "    for flip in range(flips):\n",
    "        if random.choice(heads_or_tails) == heads:\n",
    "            no_heads += 1\n",
    "        else:\n",
    "            no_tails += 1\n",
    "            \n",
    "    \n",
    "    print(f\"Heads: {no_heads}\\tTails: {no_tails}\")\n",
    "    return [no_heads, no_tails]\n",
    "     "
   ]
  },
  {
   "cell_type": "code",
   "execution_count": 221,
   "id": "da7c6014",
   "metadata": {},
   "outputs": [],
   "source": [
    "def equal_coin(flips):\n",
    "    \n",
    "    no_of_rounds = 1\n",
    "    \n",
    "    if int(flips)%2 != 0:\n",
    "        no_of_rounds = 0\n",
    "    else:\n",
    "        \n",
    "        while True:\n",
    "\n",
    "            flip_list = coin_flip(flips)\n",
    "\n",
    "            if flip_list[0] == flip_list[1]:\n",
    "                print(flip_list)\n",
    "                break\n",
    "            else:\n",
    "                no_of_rounds += 1\n",
    "                print(flip_list)\n",
    "\n",
    "\n",
    "\n",
    "    return no_of_rounds\n",
    "            "
   ]
  },
  {
   "cell_type": "code",
   "execution_count": 224,
   "id": "8948940f",
   "metadata": {},
   "outputs": [],
   "source": [
    "def equal_coin_sim(flips, sim):\n",
    "    \n",
    "    no_equal_coin_toss = 0\n",
    "    for i in range(sim):\n",
    "        no_equal_coin_toss += equal_coin(flips)\n",
    "    \n",
    "    print(f\"A total of {flips} flips was made in each round, for an average of {no_equal_coin_toss/sim} rounds in {sim} simulations. (NOTE: This is how long it took for the number of heads and number of tails to be equal).\")\n",
    "    return no_equal_coin_toss/sim\n",
    "        \n",
    "        "
   ]
  }
 ],
 "metadata": {
  "kernelspec": {
   "display_name": "Python 3",
   "language": "python",
   "name": "python3"
  },
  "language_info": {
   "codemirror_mode": {
    "name": "ipython",
    "version": 3
   },
   "file_extension": ".py",
   "mimetype": "text/x-python",
   "name": "python",
   "nbconvert_exporter": "python",
   "pygments_lexer": "ipython3",
   "version": "3.8.8"
  }
 },
 "nbformat": 4,
 "nbformat_minor": 5
}
